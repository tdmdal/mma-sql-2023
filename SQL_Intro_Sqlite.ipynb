{
  "cells": [
    {
      "cell_type": "markdown",
      "metadata": {
        "id": "dbmDBqw1P5hn"
      },
      "source": [
        "# MMA Bootcamp - Intro to SQL\n",
        "\n",
        "## 1. Preparation\n",
        "\n",
        "We start by setting up a connection to our sample database, Northwind DB."
      ]
    },
    {
      "cell_type": "code",
      "execution_count": null,
      "metadata": {
        "id": "Ylg7JbjIAZME"
      },
      "outputs": [],
      "source": [
        "# download Northwind SQLite DB\n",
        "!wget https://tdmdal.github.io/mma-sql-2023/data/northwind.sqlite3"
      ]
    },
    {
      "cell_type": "code",
      "source": [
        "# install ipython-sql 0.5.0\n",
        "# this Python package allows us to run SQL in Jupyter/IPython notebook via %sql and %%sql magics\n",
        "# the ipython-sql already installed on Google Colab isn't up-to-date to work with the SQLAlchemy installed\n",
        "# https://github.com/catherinedevlin/ipython-sql\n",
        "!pip install ipython-sql==0.5.0 --quiet"
      ],
      "metadata": {
        "id": "Rz09GGX23QsL"
      },
      "execution_count": null,
      "outputs": []
    },
    {
      "cell_type": "code",
      "execution_count": null,
      "metadata": {
        "id": "RSE5sLAmP5hq"
      },
      "outputs": [],
      "source": [
        "# load the SQL magic extension\n",
        "%load_ext sql"
      ]
    },
    {
      "cell_type": "code",
      "source": [
        "# now we can use the magic extension to connect to our SQLite DB\n",
        "# use %sql to write an inline SQL command\n",
        "# use %%sql to write SQL commands in a cell\n",
        "%sql sqlite:///northwind.sqlite3"
      ],
      "metadata": {
        "id": "5mZBsqjo5rpR"
      },
      "execution_count": null,
      "outputs": []
    },
    {
      "cell_type": "markdown",
      "metadata": {
        "id": "HjRxDwvkP5h7"
      },
      "source": [
        "After connecting to the Northwind DB, let's first check what database engine we are using."
      ]
    },
    {
      "cell_type": "code",
      "execution_count": null,
      "metadata": {
        "id": "3JdLzIG-P5iE"
      },
      "outputs": [],
      "source": [
        "%%sql\n",
        "SELECT sqlite_version();"
      ]
    },
    {
      "cell_type": "markdown",
      "metadata": {
        "id": "Qxq151BGP5iN"
      },
      "source": [
        "We are using [SQLite 3](https://www.sqlite.org/index.html). It's a small and fast Relational Database engine. SQLite DB is self-contained: one database is just a file. Believe it or not, SQLite is the most used DB engine in the world. It's built into millions of mobile phones (e.g. Android or iOS phones) and it's used by many popular apps to store data."
      ]
    },
    {
      "cell_type": "markdown",
      "metadata": {
        "id": "bZZn0JyrP5iQ"
      },
      "source": [
        "## 2. A quick look at Northwind DB\n",
        "\n",
        "### How many tables does this DB have?\n",
        "\n",
        "A database may contain many tables. Let's see how many tables we have in the Northwind DB.\n",
        "\n",
        "Every SQLite database has a special table called `sqlite_master`. It contains a master listing of all database objects (tables, indexes, etc.) in the database and the SQL used to create each object. We can query this table to find out how many tables (excluding `sqlite_master`) we have in our Northwind DB.\n",
        "\n",
        "We will use SQL keywords `SELECT...FROM...WHERE`. Don't worry about them for now. We will soon learn those keywords."
      ]
    },
    {
      "cell_type": "code",
      "execution_count": null,
      "metadata": {
        "id": "f6uSQXLtP5iU"
      },
      "outputs": [],
      "source": [
        "%%sql\n",
        "SELECT name FROM sqlite_master WHERE type='table' AND name NOT LIKE 'sqlite_%';"
      ]
    },
    {
      "cell_type": "markdown",
      "metadata": {
        "id": "rzZ4pHQuW2Jn"
      },
      "source": [
        "Note that special tables in SQLite start with `sqlite_`. Those are reserved tables for SQLite engine system use. Above we filtered out those tables. In most cases, we shouldn't touch those special tables."
      ]
    },
    {
      "cell_type": "markdown",
      "metadata": {
        "id": "JZediGsUP5ic"
      },
      "source": [
        "### How does the Categories table look like?\n",
        "\n",
        "A table is made up of one or more columns/fields. Let's take a look a the Categories table (column names, types, etc.)."
      ]
    },
    {
      "cell_type": "code",
      "execution_count": null,
      "metadata": {
        "id": "Kf76Zf33Zuh4"
      },
      "outputs": [],
      "source": [
        "%sql PRAGMA table_info([Categories]);"
      ]
    },
    {
      "cell_type": "markdown",
      "metadata": {
        "id": "h5EZYKPcP5iq"
      },
      "source": [
        "### How about the relationships between the tables?\n",
        "\n",
        "We present the relationships between the tables using an Entity Relationship (ER) diagram.\n",
        "\n",
        "<img src=\"https://github.com/tdmdal/datasets-teaching/raw/main/nw/images/NW_ER.png\" alt=\"ER Diagram\" width=\"836\" height=\"605\" />\n",
        "\n",
        "In the above ER diagram, the tiny vertical key icon indicates a column is a primary key. A primary key is a column (or set of columns) whose values uniquely identify every row in a table. For example, `OrderID` is the primary key in the `Orders` table, and `OrderID` and `ProductID` (combined) is the primary key in the `OrderDetails` table.\n",
        "\n",
        "The relationship icon (a line with a horizontal key at one end and an infinite symbol at the other end) indicates a foreign key constraint and a one-to-many relationship. A foreign key is a column (or set of columns) in one table whose values uniquely identify a row of another table or the same table. A foreign key mostly refers to a primary key in another table. A foreign key constraint requires that the constrained column contain only values from the primary key column of the other table. For example `CustomerID` in the `Orders` table is a foreign key that refers to the `CustomerID` primary key in the `Customers` table, and it can only contain values that exist in the `CustomerID` column of the `Customers` table.\n",
        "\n",
        "In addition, it happens that every foreign key constraint in the Northwind DB establishes a one-to-many relationship, i.e. a row from one table can have multiple matching rows in another table. For example, one row from the `Customers` table can match multiple rows in the `Orders` table (via `CustomerID`). This makes sense as one customer can place more than one orders. (Another common relationship a foreign key constraint can establish is the one-to-one relationship.)\n",
        "\n",
        "|logo|meaning|\n",
        "|:------:|:------:|\n",
        "|![key logo](https://github.com/tdmdal/datasets-teaching/raw/main/nw/images/key_vertical.png \"key logo\")|primary key|\n",
        "|![foreign key constraint](https://github.com/tdmdal/datasets-teaching/raw/main/nw/images/relationship.png \"foreign key constraint\")|one-to-many foreign key contraint|\n",
        "\n",
        "**Question**: Why do we need foreign key constraints? (Discussion)\n",
        "\n",
        "You can find out relationships between tables by querying the `sqlite_master` table. See the code below.\n",
        "\n",
        "Of course, querying the `sqlite_master` table to find out relationships between tables is specific to SQLite. We would do it differently if we use other database management systems. For example, if we use MySQL system, we would query the `key_column_usage` table in the `information_schema` DB. See this stackoverflow [question](https://stackoverflow.com/questions/20855065/how-to-find-all-the-relations-between-all-mysql-tables).\n",
        "\n",
        "Alternatively, some SQL client tools can generate ER diagram for you. The above diagram is generated by SQL Server Management Studio (SSMS). The Northwind DB is a sample DB originally shipped with Microsoft SQL Server."
      ]
    },
    {
      "cell_type": "code",
      "execution_count": null,
      "metadata": {
        "id": "k6UG5tFhgEgn"
      },
      "outputs": [],
      "source": [
        "%%sql\n",
        "-- find out relationships between tables using SQL command\n",
        "SELECT sql\n",
        "FROM sqlite_master\n",
        "WHERE name = \"Orders\";"
      ]
    },
    {
      "cell_type": "markdown",
      "metadata": {
        "id": "pCMJAERPP5i4"
      },
      "source": [
        "## Exercises\n",
        "\n",
        "**We will work on the problems with a * sign together.** Other problems are left for homework.\n",
        "\n",
        "## Part 1. Warm-up\n",
        "\n",
        "We review\n",
        "\n",
        "1. Retrieve data: `SELECT...FROM...`\n",
        "2. Sort retrieved data: `SELECT...FROM...ORDER BY...`\n",
        "3. Filter data: `SELECT...FROM...WHERE...`; `IN`, `NOT`, `LIKE` and `%` wildcard\n",
        "4. Create calculated fields: mathematical calculations (e.g. +, -, *, /); data manipulation functions (e.g. `DATE()`, `||`)"
      ]
    },
    {
      "cell_type": "markdown",
      "metadata": {
        "id": "DsN97oCBP5i5"
      },
      "source": [
        "### Ex1*. Which categories do we have?\n",
        "\n",
        "Display `CategoryName` and `Description` in the `Categories` table."
      ]
    },
    {
      "cell_type": "code",
      "execution_count": null,
      "metadata": {
        "id": "DkcFjUPZP5i7"
      },
      "outputs": [],
      "source": [
        "%%sql\n",
        "-- start your code here\n"
      ]
    },
    {
      "cell_type": "code",
      "execution_count": null,
      "metadata": {
        "id": "noxeIeauP5jB"
      },
      "outputs": [],
      "source": [
        "# Just curious, what's in the picture column?\n",
        "result = %sql SELECT CategoryName, Picture FROM Categories;\n",
        "result.DataFrame().loc[0, 'Picture']"
      ]
    },
    {
      "cell_type": "code",
      "execution_count": null,
      "metadata": {
        "id": "3nBk-vEXP5jL"
      },
      "outputs": [],
      "source": [
        "# still curious about the picture column?\n",
        "# image is actually stored as a blob (Binary Large Object) in SQLite\n",
        "from matplotlib.pyplot import imshow\n",
        "from PIL import Image\n",
        "from io import BytesIO\n",
        "%matplotlib inline\n",
        "row = 0\n",
        "im = Image.open(BytesIO(result.DataFrame().loc[row, 'Picture'][78:])) # cut the first 78 bytes (OLE header)\n",
        "print(im)\n",
        "imshow(im)"
      ]
    },
    {
      "cell_type": "markdown",
      "metadata": {
        "id": "vfyHGYXUP5jS"
      },
      "source": [
        "### Ex2. Which shippers do we have?"
      ]
    },
    {
      "cell_type": "code",
      "execution_count": null,
      "metadata": {
        "id": "Yewkdb61P5jV"
      },
      "outputs": [],
      "source": [
        "%%sql\n",
        "-- start your code here\n"
      ]
    },
    {
      "cell_type": "markdown",
      "metadata": {
        "id": "CJGFfDmMP5jd"
      },
      "source": [
        "### Ex3* Find names and hire dates of all US sales representatives\n",
        "\n",
        "The resulting table should display `FirstName`, `LastName`, `HireDate`, `Title` and `Country`."
      ]
    },
    {
      "cell_type": "code",
      "execution_count": null,
      "metadata": {
        "id": "nAijMy1ZP5je"
      },
      "outputs": [],
      "source": [
        "%%sql\n",
        "-- take a look at the Employees table first\n",
        "-- use LIMIT to limit the rows being displayed\n",
        "SELECT FirstName, LastName, HireDate, Title, Country\n",
        "FROM Employees\n",
        "LIMIT 10;"
      ]
    },
    {
      "cell_type": "code",
      "execution_count": null,
      "metadata": {
        "id": "s7SiTpDIP5jm"
      },
      "outputs": [],
      "source": [
        "%%sql\n",
        "-- just curious, how many distinct coutries do we have?\n",
        "SELECT DISTINCT Country\n",
        "FROM Employees"
      ]
    },
    {
      "cell_type": "code",
      "execution_count": null,
      "metadata": {
        "id": "ZzSRms3PP5jw"
      },
      "outputs": [],
      "source": [
        "%%sql\n",
        "-- start your code here\n"
      ]
    },
    {
      "cell_type": "markdown",
      "metadata": {
        "id": "HjWUArDrP5j_"
      },
      "source": [
        "### Ex4. Find supplier contacts who are *not* marketing managers\n",
        "\n",
        "Display `supplierID`, `ContactNames` and `ContactTitle` for those whose `ContactTitle` is *not* Marketing Manager.\n",
        "\n",
        "Hint: `NOT` operator."
      ]
    },
    {
      "cell_type": "code",
      "execution_count": null,
      "metadata": {
        "id": "uKSTe5S_P5kL"
      },
      "outputs": [],
      "source": [
        "%%sql\n",
        "-- start your code here\n"
      ]
    },
    {
      "cell_type": "markdown",
      "metadata": {
        "id": "v67A6_DaP5kQ"
      },
      "source": [
        "### Ex.5* Find products with \"Chef\" in its name\n",
        "\n",
        "Hint: `LIKE` operator and `%` wildcard."
      ]
    },
    {
      "cell_type": "code",
      "execution_count": null,
      "metadata": {
        "id": "nPmZVr5wP5kS"
      },
      "outputs": [],
      "source": [
        "%%sql\n",
        "-- start your code here\n"
      ]
    },
    {
      "cell_type": "markdown",
      "metadata": {
        "id": "8td7jDiWP5ke"
      },
      "source": [
        "### Ex.6 Find all orders shipping to Canada, Mexico or USA.\n",
        "\n",
        "Hint: `IN` operator."
      ]
    },
    {
      "cell_type": "code",
      "execution_count": null,
      "metadata": {
        "id": "GGQJqpMzP5kf"
      },
      "outputs": [],
      "source": [
        "%%sql\n",
        "-- start your code here\n"
      ]
    },
    {
      "cell_type": "markdown",
      "metadata": {
        "id": "actDI1XLP5kl"
      },
      "source": [
        "### Ex.7* Who is the oldest employee?\n",
        "\n",
        "Display `FirstName`, `LastName`, `Title`, and birth date, ordered by birth date. Show only the date portion of the `BirthDate` column/field (YYYY-MM-DD)."
      ]
    },
    {
      "cell_type": "code",
      "execution_count": null,
      "metadata": {
        "id": "0xIt3fpHP5kl"
      },
      "outputs": [],
      "source": [
        "%%sql\n",
        "-- start your code here\n"
      ]
    },
    {
      "cell_type": "markdown",
      "metadata": {
        "id": "h107mQkjP5kx"
      },
      "source": [
        "### EX.8 Show employee full name\n",
        "\n",
        "Show the `FirstName` and `LastName` columns from the `Employees` table, and then create a new column called `FullName`, showing first name and last name joined together in one column in a format like \"DAVOLIO, Nancy\"."
      ]
    },
    {
      "cell_type": "code",
      "execution_count": null,
      "metadata": {
        "id": "dmCenF_lP5kz"
      },
      "outputs": [],
      "source": [
        "%%sql\n",
        "-- start your code here\n"
      ]
    },
    {
      "cell_type": "markdown",
      "metadata": {
        "id": "heh3Gl-CP5k5"
      },
      "source": [
        "### Ex.9* Which order items have total sales above $12,000.\n",
        "\n",
        "In the `OrderDetails` table, we have the columns `UnitPrice` and `Quantity`. Create a new column, `TotalPrice`, that multiplies these two (ignore the `Discount` column). Display `OrderID`, `ProductID`, `UnitPrice`, `Quantity` and `TotalPrice`. Order the result first by `ProductID` (ascending) and then by `TotalPrice` (descending).\n",
        "\n",
        "Note that the question asks about order items (not orders). One order may contain multiple items/products. An order item is identified by the `OrderID` and `ProductID` columns."
      ]
    },
    {
      "cell_type": "code",
      "execution_count": null,
      "metadata": {
        "id": "8jlohcepP5k5"
      },
      "outputs": [],
      "source": [
        "%%sql\n",
        "-- start your code here\n"
      ]
    },
    {
      "cell_type": "markdown",
      "metadata": {
        "id": "8SitwG-HP5lG"
      },
      "source": [
        "### Ex.10 Show all products that need reordering\n",
        "\n",
        "A product need reordering if `UnitsInStock + UnitsOnOrder <= ReorderLevel` and `Discontinued = 0`. In your result, display `ProductID`, `ProductName`, `UnitsInStock`, `UnitsOnOrder`, `ReorderLevel`, and `Discontinued`."
      ]
    },
    {
      "cell_type": "code",
      "execution_count": null,
      "metadata": {
        "id": "w6WKD5WTP5lG"
      },
      "outputs": [],
      "source": [
        "%%sql\n",
        "-- start your code here\n"
      ]
    },
    {
      "cell_type": "markdown",
      "metadata": {
        "id": "IJWnaTtsP5lM"
      },
      "source": [
        "## Part 2. Summarize and Group Data\n",
        "\n",
        "1. Summarize data using aggregate functions (e.g. `COUNT()`, `MIN()`, `MAX()`, and `AVG()`).\n",
        "2. Group data and filter groups: `SELECT...FROM...GROUP BY...HAVING...`.\n",
        "3. `SELECT` clause ordering: `SELECT...FROM...WHERE...GROUP BY...HAVING...ORDER BY...`.\n",
        "4. Filter data by *subquery*: `SELECT...FROM...WHERE...(SELECT...FROM...)`\n",
        "\n",
        "### Ex.11* Count total number of order items. What's their minimum, maximum and average price?\n",
        "\n",
        "Note that the question asks about order items (not orders). One order may contain multiple items/products. An order item is identified by (OrderID + ProductID)."
      ]
    },
    {
      "cell_type": "code",
      "execution_count": null,
      "metadata": {
        "id": "QN_WXbVDP5lN"
      },
      "outputs": [],
      "source": [
        "%%sql\n",
        "-- start your code here\n"
      ]
    },
    {
      "cell_type": "markdown",
      "metadata": {
        "id": "atzWiwfxP5lU"
      },
      "source": [
        "### Ex. 12* How many customers do we have for each contact title.\n",
        "\n",
        "Order the result by the count of contact titles."
      ]
    },
    {
      "cell_type": "code",
      "execution_count": null,
      "metadata": {
        "id": "XpwkY2yPP5lU"
      },
      "outputs": [],
      "source": [
        "%%sql\n",
        "-- start your code here\n"
      ]
    },
    {
      "cell_type": "markdown",
      "metadata": {
        "id": "1e2HP45FP5lY"
      },
      "source": [
        "### Ex.13 Find total customers per country and city"
      ]
    },
    {
      "cell_type": "code",
      "execution_count": null,
      "metadata": {
        "id": "eyJLA4IsP5la"
      },
      "outputs": [],
      "source": [
        "%%sql\n",
        "-- start your code here\n"
      ]
    },
    {
      "cell_type": "markdown",
      "metadata": {
        "id": "Ie1Up0WCP5lf"
      },
      "source": [
        "### Ex.14* Show all orders with values greater than $12,000?\n",
        "\n",
        "Ignore the `Discount`. Contrast this question to Ex.9."
      ]
    },
    {
      "cell_type": "code",
      "execution_count": null,
      "metadata": {
        "id": "ghH38U-EP5lf"
      },
      "outputs": [],
      "source": [
        "%%sql\n",
        "-- start your code here\n"
      ]
    },
    {
      "cell_type": "markdown",
      "metadata": {
        "id": "6L0C9-krP5ll"
      },
      "source": [
        "### Ex.15* Find top three countries with the highest average freight charges for the last 12 months.\n",
        "\n",
        "\"The last 12 months\" is with respect to the last `OrderDate` in the `Orders` table."
      ]
    },
    {
      "cell_type": "code",
      "execution_count": null,
      "metadata": {
        "id": "XGEsw_hL2FXR"
      },
      "outputs": [],
      "source": [
        "%%sql\n",
        "-- start your code here\n",
        "-- datetime(): https://www.sqlite.org/lang_datefunc.html\n"
      ]
    },
    {
      "cell_type": "markdown",
      "metadata": {
        "id": "vd921rwiP5lr"
      },
      "source": [
        "## Part 3. Join Tables\n",
        "\n",
        "1. Inner join: `SELECT...FROM...INNER JOIN...ON...`\n",
        "2. Left join:  `SELECT...FROM...LEFT JOIN...ON...`\n",
        "3. Other joins.\n",
        "\n",
        "### Ex.16* Show products and their associated suppliers\n",
        "\n",
        "Display the `ProductID`, `ProductName`, and the `CompanyName` of the Supplier. Sort by `ProductID`.\n",
        "\n",
        "We can use the `WHERE` keyword."
      ]
    },
    {
      "cell_type": "code",
      "execution_count": null,
      "metadata": {
        "id": "YlnNWYlVP5ls"
      },
      "outputs": [],
      "source": [
        "%%sql\n",
        "-- start your code here\n"
      ]
    },
    {
      "cell_type": "markdown",
      "metadata": {
        "id": "fLaN2Ph3P5lw"
      },
      "source": [
        "We can also use the `(INNER) JOIN` keyword."
      ]
    },
    {
      "cell_type": "code",
      "execution_count": null,
      "metadata": {
        "id": "R9QauiHNP5lw"
      },
      "outputs": [],
      "source": [
        "%%sql\n",
        "-- start your code here\n"
      ]
    },
    {
      "cell_type": "markdown",
      "metadata": {
        "id": "JJYHshMRP5l1"
      },
      "source": [
        "### Ex.17 Show all orders and shippers with OrderID less than 10255.\n",
        "\n",
        "Display `OrderID`, `OrderDate` (date only), and `CompanyName` of the Shipper, and sort by `OrderID`. In addition, only display rows with `OrderID < 10255`."
      ]
    },
    {
      "cell_type": "code",
      "execution_count": null,
      "metadata": {
        "id": "HUNuMMn_P5l8"
      },
      "outputs": [],
      "source": [
        "%%sql\n",
        "-- start your code here\n"
      ]
    },
    {
      "cell_type": "markdown",
      "metadata": {
        "id": "f_9Va_7xP5mB"
      },
      "source": [
        "### Ex.18* Find total number of products in each category\n",
        "\n",
        "In your result, display `CategoryName` and total number of product."
      ]
    },
    {
      "cell_type": "code",
      "execution_count": null,
      "metadata": {
        "id": "tK7punTbP5mC"
      },
      "outputs": [],
      "source": [
        "%%sql\n",
        "-- start your code here\n"
      ]
    },
    {
      "cell_type": "markdown",
      "metadata": {
        "id": "J3VLQ3iXP5mO"
      },
      "source": [
        "### Ex.19 Show all orders with values greater than $12,000 and are placed in 2016?\n",
        "\n",
        "In your result, display `OrderID` and total value of the order (ignore `Discount`)."
      ]
    },
    {
      "cell_type": "code",
      "execution_count": null,
      "metadata": {
        "id": "OpLqfrRoP5mO"
      },
      "outputs": [],
      "source": [
        "%%sql\n",
        "-- start your code here\n"
      ]
    },
    {
      "cell_type": "markdown",
      "metadata": {
        "id": "2uSIBVYaP5mV"
      },
      "source": [
        "### Ex.20* What products has Michael Suyama ever sold?\n",
        "\n",
        "In your result, display `EmployeeID`, `FirstName`, `LastName`, `ProductID` and `ProductName`."
      ]
    },
    {
      "cell_type": "code",
      "execution_count": null,
      "metadata": {
        "id": "LXOIiGBRP5mW"
      },
      "outputs": [],
      "source": [
        "%%sql\n",
        "-- start your code here\n"
      ]
    },
    {
      "cell_type": "markdown",
      "metadata": {
        "id": "kvuZQGMqP5ml"
      },
      "source": [
        "### Ex.21* Find customers that never placed an order"
      ]
    },
    {
      "cell_type": "code",
      "execution_count": null,
      "metadata": {
        "id": "F7uyq24fP5ml"
      },
      "outputs": [],
      "source": [
        "%%sql\n",
        "-- start your code here\n"
      ]
    },
    {
      "cell_type": "markdown",
      "metadata": {
        "id": "1avlw8OTP5ms"
      },
      "source": [
        "Note that the Jupyter Notebook displays Null as None."
      ]
    },
    {
      "cell_type": "markdown",
      "metadata": {
        "id": "FZ1FrCvoP5mt"
      },
      "source": [
        "### Ex.22* Find customers who never placed an order from Margaret Peacock (EmployeeID 4)"
      ]
    },
    {
      "cell_type": "code",
      "execution_count": null,
      "metadata": {
        "id": "E5KAA0UBP5mu"
      },
      "outputs": [],
      "source": [
        "%%sql\n",
        "-- start your code here\n"
      ]
    },
    {
      "cell_type": "markdown",
      "metadata": {
        "id": "83jTvbPjP5my"
      },
      "source": [
        "### Ex.23* Find high-value customers - 1\n",
        "\n",
        "We define high-value customers as those who have made at least 1 order with a total value >= $10,000 (ignore discount). We only consider orders placed in year 2016."
      ]
    },
    {
      "cell_type": "code",
      "execution_count": null,
      "metadata": {
        "id": "XUY5JDlTP5mz"
      },
      "outputs": [],
      "source": [
        "%%sql\n",
        "-- start your code here\n"
      ]
    },
    {
      "cell_type": "markdown",
      "metadata": {
        "id": "HjWfxr2LP5m2"
      },
      "source": [
        "### Ex.24 Find high-value customers - 2\n",
        "\n",
        "This time, we define high-value customers as those who have made total order >= $15,000 (ignore discount). We only consider orders placed in year 2016."
      ]
    },
    {
      "cell_type": "code",
      "execution_count": null,
      "metadata": {
        "id": "RX190v6VP5m3"
      },
      "outputs": [],
      "source": [
        "%%sql\n",
        "-- start your code here\n"
      ]
    },
    {
      "cell_type": "markdown",
      "metadata": {
        "id": "1OaiErBgP5m9"
      },
      "source": [
        "## Part 4. Others\n",
        "\n",
        "If we don't have time to go through all the concepts below, I encourage you to learn them on your own.\n",
        "\n",
        "1. CTE and temporary table\n",
        "2. Self-join\n",
        "3. `CASE` keyword\n",
        "4. `UNION` keyword\n",
        "\n",
        "Many SQL implementations support something called Common Table Expression (CTE).\n",
        "\n",
        ">A CTE is a named temporary result set that exists within the scope of a single statement and that can be referred to later within that statement, possibly multiple times.\n",
        "\n",
        "CTE is like a subquery, but it's more flexible. In particular, it can be referred to many times in a query, as if we have a temporary table. CTE is created using the `WITH` keyword. Below is a trivial example of CTE.\n",
        "\n",
        "```\n",
        "WITH\n",
        "  cte1 AS (SELECT a, b FROM table1),\n",
        "  cte2 AS (SELECT c, d FROM table2)\n",
        "SELECT b, d FROM cte1\n",
        "  JOIN cte2 ON cte1.a = cte2.c;\n",
        "\n",
        "```\n",
        "\n",
        "You can also use a temporary table to store `SELECT` result. Temporary table can be referred to multiple times in a single session. The syntax to create temporary table and store results from `SELECT` is\n",
        "\n",
        "```\n",
        "CREATE TEMPORARY TABLE TableName AS SELECT...\n",
        "```"
      ]
    },
    {
      "cell_type": "markdown",
      "metadata": {
        "id": "HUnWyfP7P5m9"
      },
      "source": [
        "### Ex.25* Find the total number of orders fulfilled by the oldest employee (CTE, Subquery, and temporary table)"
      ]
    },
    {
      "cell_type": "code",
      "execution_count": null,
      "metadata": {
        "id": "yxy9SdqjDxE-"
      },
      "outputs": [],
      "source": [
        "%%sql\n",
        "/* CTE (WITH keyword) */\n",
        "-- start your code here\n"
      ]
    },
    {
      "cell_type": "code",
      "execution_count": null,
      "metadata": {
        "id": "guv3XseEP5nE"
      },
      "outputs": [],
      "source": [
        "%%sql\n",
        "/* Subquery */\n",
        "-- start your code here\n"
      ]
    },
    {
      "cell_type": "code",
      "execution_count": null,
      "metadata": {
        "id": "KLQ1D4kpHL92"
      },
      "outputs": [],
      "source": [
        "%%sql\n",
        "/* Temporary Table */\n",
        "-- start your code here\n"
      ]
    },
    {
      "cell_type": "markdown",
      "metadata": {
        "id": "gHUaCSmIP5nM"
      },
      "source": [
        "### Ex.26* For each employee, find what percentage of his/her orders were shipped late?\n",
        "\n",
        "In your result, display `EmployeeID`, `LastName`, total number of orders, number of late orders, % of late orders (rounding to 2 decimal places).\n",
        "\n",
        "Define late order as `RequiredDate <= ShippedDate`.\n",
        "\n",
        "Below are three simpler related questions. You may want to solve them first before you attempt Ex.26 itself.\n",
        "\n",
        "1. Which orders were shipped late?\n",
        "2. Which employee has the most late orders?\n",
        "3. Compare each employee's number of orders and number of late orders.\n",
        "\n",
        "Note: There are many ways to solve this exercise. One of them is to create temporary tables to help us store intermediate results."
      ]
    },
    {
      "cell_type": "code",
      "execution_count": null,
      "metadata": {
        "id": "iugXHkKNP5nM"
      },
      "outputs": [],
      "source": [
        "%%sql\n",
        "-- 1. Which orders were shipped late?\n",
        "-- start your code here\n"
      ]
    },
    {
      "cell_type": "code",
      "execution_count": null,
      "metadata": {
        "id": "PQhltRXIP5nR"
      },
      "outputs": [],
      "source": [
        "%%sql\n",
        "-- 2. Which employee has the most late orders?\n",
        "-- start your code here\n"
      ]
    },
    {
      "cell_type": "code",
      "execution_count": null,
      "metadata": {
        "id": "RLMQIAUgP5nW"
      },
      "outputs": [],
      "source": [
        "%%sql\n",
        "-- 3. Compare each employee's number of orders and number of late orders\n",
        "-- start your code here\n"
      ]
    },
    {
      "cell_type": "code",
      "execution_count": null,
      "metadata": {
        "id": "C2RZsV0aP5nb"
      },
      "outputs": [],
      "source": [
        "%%sql\n",
        "-- Solve Ex.26 (Find % of late orders for each employee)\n",
        "-- start your code here\n"
      ]
    },
    {
      "cell_type": "markdown",
      "metadata": {
        "id": "APGnHoLSP5nf"
      },
      "source": [
        "### Ex.27* Find customers with multiple orders in 5 day period"
      ]
    },
    {
      "cell_type": "code",
      "execution_count": null,
      "metadata": {
        "id": "9rFxd4jNP5ng"
      },
      "outputs": [],
      "source": [
        "%%sql\n",
        "-- start your code here\n",
        "-- JOIN keyword\n"
      ]
    },
    {
      "cell_type": "markdown",
      "metadata": {
        "id": "eaS3FD86P5no"
      },
      "source": [
        "### Ex.28 Group customers by its total order value in 2016 for a sales compaign.\n",
        "\n",
        "Group customers into four categories, very high (total order in 2016 > 10,000), high (5,000 < total order <= 10,000), medium (1,000 < total order <= 5,000), and low (0 < total order <= 1,000). When calculating total order value, you can ignore discount.\n",
        "\n",
        "We will learn the `CASE` keyword."
      ]
    },
    {
      "cell_type": "code",
      "execution_count": null,
      "metadata": {
        "id": "EiZLC4bqP5np"
      },
      "outputs": [],
      "source": [
        "%%sql\n",
        "-- step 1\n",
        "DROP TABLE IF EXISTS TotalOrderAmountTpTable;\n",
        "\n",
        "CREATE TEMPORARY TABLE TotalOrderAmountTpTable AS\n",
        "SELECT Customers.CustomerID, CompanyName, SUM(UnitPrice * Quantity) AS TotalOrderAmount\n",
        "FROM Customers\n",
        "  JOIN Orders ON Customers.CustomerID = Orders.CustomerID\n",
        "  JOIN OrderDetails ON Orders.OrderID = OrderDetails.OrderID\n",
        "WHERE strftime('%Y', OrderDate) = \"2016\"\n",
        "GROUP BY Customers.CustomerID, CompanyName\n",
        "ORDER BY TotalOrderAmount DESC;"
      ]
    },
    {
      "cell_type": "code",
      "execution_count": null,
      "metadata": {
        "id": "nCw_z8kwP5ns"
      },
      "outputs": [],
      "source": [
        "%%sql\n",
        "-- step 2\n",
        "SELECT CustomerID, CompanyName, totalOrderAmount,\n",
        "CASE\n",
        "  WHEN TotalOrderAmount > 0 AND TotalOrderAmount <= 1000 THEN 'Low'\n",
        "  WHEN TotalOrderAmount > 1000 AND TotalOrderAmount <= 5000 THEN 'Medium'\n",
        "  WHEN TotalOrderAmount > 5000 AND TotalOrderAmount <= 10000 THEN 'High'\n",
        "  WHEN TotalOrderAmount > 10000 THEN 'Very High'\n",
        "END AS CustomerCategory\n",
        "FROM TotalOrderAmountTpTable\n",
        "ORDER BY CustomerID;"
      ]
    },
    {
      "cell_type": "markdown",
      "metadata": {
        "id": "ZqGPk7IBP5nv"
      },
      "source": [
        "### Ex. 29 Countries with suppliers and customers\n",
        "\n",
        "Some Northwind employees are planning a business trip, and they would like to visit as many customers and suppliers as possible. They would like to see a list of all countries and their corresponding total number of customers and total number of suppliers.\n",
        "\n",
        "#### Method 1. Use intermediate tables.\n",
        "\n",
        "We will use temporary tables."
      ]
    },
    {
      "cell_type": "code",
      "execution_count": null,
      "metadata": {
        "id": "1pY3SXUZP5nw"
      },
      "outputs": [],
      "source": [
        "%%sql\n",
        "-- step 1: count total customers by country\n",
        "DROP TABLE IF EXISTS TotalCustomersTpTable;\n",
        "\n",
        "CREATE TEMPORARY TABLE TotalCustomersTpTable AS\n",
        "SELECT Country, COUNT(CustomerID) AS TotalCustomers\n",
        "FROM Customers\n",
        "GROUP BY Country;"
      ]
    },
    {
      "cell_type": "code",
      "execution_count": null,
      "metadata": {
        "id": "fCJHTOjuP5n1"
      },
      "outputs": [],
      "source": [
        "%%sql\n",
        "-- step 2: count total suppliers by country\n",
        "DROP TABLE IF EXISTS TotalSuppliersTpTable;\n",
        "\n",
        "CREATE TEMPORARY TABLE TotalSuppliersTpTable AS\n",
        "SELECT Country, COUNT(SupplierID) AS TotalSuppliers\n",
        "FROM Suppliers\n",
        "GROUP BY Country;"
      ]
    },
    {
      "cell_type": "code",
      "execution_count": null,
      "metadata": {
        "id": "FRWI53UNP5n4"
      },
      "outputs": [],
      "source": [
        "%%sql\n",
        "-- step 3: join two intermediate tables (full outer join using union)\n",
        "SELECT TotalCustomersTpTable.Country, TotalCustomers, TotalSuppliers\n",
        "FROM TotalCustomersTpTable\n",
        "  LEFT JOIN TotalSuppliersTpTable\n",
        "    ON TotalCustomersTpTable.Country = TotalSuppliersTpTable.Country\n",
        "UNION\n",
        "SELECT TotalSuppliersTpTable.Country, TotalCustomers, TotalSuppliers\n",
        "FROM TotalSuppliersTpTable\n",
        "  LEFT JOIN TotalCustomersTpTable\n",
        "    ON TotalCustomersTpTable.Country = TotalSuppliersTpTable.Country\n",
        "ORDER BY TotalSuppliersTpTable.Country;"
      ]
    },
    {
      "cell_type": "code",
      "execution_count": null,
      "metadata": {
        "id": "AOOpyIVmP5n6"
      },
      "outputs": [],
      "source": [
        "%%sql\n",
        "-- clean up\n",
        "DROP TABLE TotalCustomersTpTable;\n",
        "DROP TABLE TotalSuppliersTpTable;"
      ]
    },
    {
      "cell_type": "markdown",
      "metadata": {
        "id": "9IjyAoi7P5n-"
      },
      "source": [
        "#### Method 2. Use subquery to get a derived table\n",
        "\n",
        "We find all distinct countries in `Customers` and `Supplier` tables, and combine them to be a derived table `CountriesTable`. This table exists only during the execution of the query. We then `LEFT JOIN` the table to `Customers` and `Supplier` tables, and use `GROUP BY` to obtain the result."
      ]
    },
    {
      "cell_type": "code",
      "execution_count": null,
      "metadata": {
        "id": "bU_hRj-ED1kr"
      },
      "outputs": [],
      "source": [
        "%%sql\n",
        "-- Display intermediate result to take a look (debug)\n",
        "SELECT\n",
        "  CountriesTable.Country,\n",
        "  CustomerID,\n",
        "  SupplierID\n",
        "FROM\n",
        "  (SELECT DISTINCT Country FROM Customers\n",
        "   UNION\n",
        "   SELECT DISTINCT Country FROM Suppliers\n",
        "  ) AS CountriesTable -- We have a subquery under the FROM keyword. It gives a derived table, CountriesTable.\n",
        "  LEFT JOIN Customers ON CountriesTable.Country = Customers.Country\n",
        "  LEFT JOIN Suppliers ON CountriesTable.Country = Suppliers.Country;"
      ]
    },
    {
      "cell_type": "code",
      "execution_count": null,
      "metadata": {
        "id": "Y2jUT61cP5n_"
      },
      "outputs": [],
      "source": [
        "%%sql\n",
        "-- now, completely solve ex.29\n",
        "SELECT\n",
        "  CountriesTable.Country,\n",
        "  Count(DISTINCT CustomerID) AS TotalCustomers,\n",
        "  Count(DISTINCT SupplierID) AS TotalSuppliers\n",
        "FROM\n",
        "  (SELECT DISTINCT Country FROM Customers\n",
        "   UNION\n",
        "   SELECT DISTINCT Country FROM Suppliers\n",
        "  ) AS CountriesTable -- We have a subquery under the FROM keyword. It gives a derived table, CountriesTable.\n",
        "  LEFT JOIN Customers ON CountriesTable.Country = Customers.Country\n",
        "  LEFT JOIN Suppliers ON CountriesTable.Country = Suppliers.Country\n",
        "GROUP BY CountriesTable.Country\n",
        "ORDER BY CountriesTable.Country;"
      ]
    },
    {
      "cell_type": "markdown",
      "metadata": {
        "id": "MX-r4ZGhP5oE"
      },
      "source": [
        "## Summary\n",
        "\n",
        "We have covered quite a few basic SQL keywords. They are mostly about getting data from a DB and manipulate the retrieved data. There are much more to SQL. Take a look at this [post](https://stackoverflow.com/questions/2054130/what-is-advanced-sql) to get an idea of what advanced SQL topics are about, and if you are interested, explore them on your own.\n",
        "\n",
        "\n",
        "## References\n",
        "\n",
        "Most of the exercises in this notebook are drawn from this [book](https://www.amazon.ca/SQL-Practice-Problems-learn-doing-ebook/dp/B01N41VQFO) by Sylvia Moestl Vasilik. The book is based on Microsoft SQL server and its T-SQL.\n",
        "\n",
        "Another great SQL book for beginner is [SQL in 10 Minute](https://www.amazon.ca/SQL-Minutes-Sams-Teach-Yourself/dp/0135182794) by Ben Forta."
      ]
    },
    {
      "cell_type": "code",
      "execution_count": null,
      "metadata": {
        "id": "q8bRB4GmP5oF"
      },
      "outputs": [],
      "source": []
    },
    {
      "cell_type": "markdown",
      "metadata": {
        "id": "_KfSNG5KP5oI"
      },
      "source": [
        "## Appendix\n",
        "\n",
        "Examples of various joins shown in the slides."
      ]
    },
    {
      "cell_type": "code",
      "execution_count": null,
      "metadata": {
        "id": "VppwXfH7zXyt"
      },
      "outputs": [],
      "source": [
        "# create a new sqlite database\n",
        "%sql sqlite:///join_playground.sqlite3"
      ]
    },
    {
      "cell_type": "code",
      "execution_count": null,
      "metadata": {
        "id": "k6LIK-5VP5oJ"
      },
      "outputs": [],
      "source": [
        "%%sql\n",
        "\n",
        "-- create left table: table1\n",
        "DROP TABLE IF EXISTS table1;\n",
        "\n",
        "CREATE TABLE table1 (\n",
        "  pk INTEGER NOT NULL,\n",
        "  t1c1 TEXT NOT NULL\n",
        ");\n",
        "\n",
        "INSERT INTO table1\n",
        "    (pk, t1c1)\n",
        "VALUES\n",
        "    (1,\"a\"),\n",
        "    (2,\"b\");\n",
        "\n",
        "-- create right table: table2\n",
        "DROP TABLE IF EXISTS table2;\n",
        "\n",
        "CREATE TABLE table2 (\n",
        "  fk INTEGER NOT NULL,\n",
        "  t2c1 TEXT NOT NULL\n",
        ");\n",
        "\n",
        "INSERT INTO table2\n",
        "    (fk, t2c1)\n",
        "VALUES\n",
        "    (1,\"c\"),\n",
        "    (1,\"d\"),\n",
        "    (3,\"e\");"
      ]
    },
    {
      "cell_type": "code",
      "execution_count": null,
      "metadata": {
        "id": "D-EBvGSmP5oe"
      },
      "outputs": [],
      "source": [
        "%%sql\n",
        "select * from table1;"
      ]
    },
    {
      "cell_type": "code",
      "execution_count": null,
      "metadata": {
        "id": "RueQp1XrP5ol"
      },
      "outputs": [],
      "source": [
        "%%sql\n",
        "select * from table2;"
      ]
    },
    {
      "cell_type": "code",
      "execution_count": null,
      "metadata": {
        "id": "WLKJbsiyP5on"
      },
      "outputs": [],
      "source": [
        "%%sql\n",
        "-- inner join\n",
        "select * from table1 join table2 on table1.pk = table2.fk;"
      ]
    },
    {
      "cell_type": "code",
      "execution_count": null,
      "metadata": {
        "id": "9oDsKf8OP5oq"
      },
      "outputs": [],
      "source": [
        "%%sql\n",
        "-- left join\n",
        "select *\n",
        "from table1\n",
        "  left join table2 on table1.pk = table2.fk;"
      ]
    },
    {
      "cell_type": "code",
      "execution_count": null,
      "metadata": {
        "id": "bwqlAhCLP5ou"
      },
      "outputs": [],
      "source": [
        "%%sql\n",
        "-- left join with exclusion\n",
        "select *\n",
        "from table1\n",
        "  left join table2 on table1.pk = table2.fk\n",
        "where table2.fk IS NULL;"
      ]
    },
    {
      "cell_type": "code",
      "execution_count": null,
      "metadata": {
        "id": "sgyyBEw5P5o0"
      },
      "outputs": [],
      "source": [
        "%%sql\n",
        "-- right join using LEFT JOIN key word\n",
        "select *\n",
        "from table2\n",
        "  left join table1 on table2.fk = table1.pk;"
      ]
    },
    {
      "cell_type": "code",
      "execution_count": null,
      "metadata": {
        "id": "2QJleWGiP5o6"
      },
      "outputs": [],
      "source": [
        "%%sql\n",
        "-- right join with exclusion using LEFT JOIN and WHERE key word\n",
        "select *\n",
        "from table2\n",
        "  left join table1 on table2.fk = table1.pk\n",
        "where table1.pk is NULL;"
      ]
    },
    {
      "cell_type": "code",
      "execution_count": null,
      "metadata": {
        "id": "wTOU-JaFP5o8"
      },
      "outputs": [],
      "source": [
        "%%sql\n",
        "-- fuller outer join\n",
        "-- it is important to list all the column names (i.e. not using *; can use * if using MySQL)\n",
        "-- https://stackoverflow.com/questions/53076981/sql-union-doesnt-check-for-matching-column-names-is-it-up-to-me\n",
        "\n",
        "select pk, t1c1, fk, t2c1\n",
        "from table1\n",
        "  left join table2 on table1.pk = table2.fk\n",
        "union\n",
        "select pk, t1c1, fk, t2c1\n",
        "from table2\n",
        "  left join table1 on table2.fk = table1.pk;"
      ]
    },
    {
      "cell_type": "code",
      "execution_count": null,
      "metadata": {
        "id": "VlBjOIV2P5o_"
      },
      "outputs": [],
      "source": [
        "%%sql\n",
        "-- full outer join with exclusion\n",
        "select pk, t1c1, fk, t2c1\n",
        "from table1\n",
        "  left join table2 on table1.pk = table2.fk\n",
        "where table2.fk is NULL\n",
        "union\n",
        "select pk, t1c1, fk, t2c1\n",
        "from table2\n",
        "  left join table1 on table2.fk = table1.pk\n",
        "where table1.pk is NULL;"
      ]
    },
    {
      "cell_type": "code",
      "execution_count": null,
      "metadata": {
        "id": "Ni_n1mWNP5pC"
      },
      "outputs": [],
      "source": []
    }
  ],
  "metadata": {
    "colab": {
      "provenance": []
    },
    "kernelspec": {
      "display_name": "Python 3 (ipykernel)",
      "language": "python",
      "name": "python3"
    },
    "language_info": {
      "codemirror_mode": {
        "name": "ipython",
        "version": 3
      },
      "file_extension": ".py",
      "mimetype": "text/x-python",
      "name": "python",
      "nbconvert_exporter": "python",
      "pygments_lexer": "ipython3",
      "version": "3.9.6"
    }
  },
  "nbformat": 4,
  "nbformat_minor": 0
}